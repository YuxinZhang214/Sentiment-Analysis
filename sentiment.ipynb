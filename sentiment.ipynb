{
 "cells": [
  {
   "cell_type": "markdown",
   "id": "ea4c4327-6ce9-445a-8044-10f463096c48",
   "metadata": {},
   "source": [
    "# 1. Extract Review Data  \n",
    "Project from: [Nicholas Renotte's Sentiment Analyser for Yelp Reviews](https://www.nicholasrenotte.com/how-to-build-a-sentiment-analyser-for-yelp-reviews-in-python/)  \n",
    "Date: 21 May 2024"
   ]
  },
  {
   "cell_type": "code",
   "execution_count": 8,
   "id": "4da7b110",
   "metadata": {},
   "outputs": [],
   "source": [
    "import pandas as pd\n",
    "from zipfile import ZipFile"
   ]
  },
  {
   "cell_type": "code",
   "execution_count": 9,
   "id": "d91c46f6-c893-4f9d-a35b-e03c36ad3695",
   "metadata": {},
   "outputs": [],
   "source": [
    "# Unzip the downloaded dataset\n",
    "with ZipFile('amazon-fine-food-reviews.zip', 'r') as zip_ref:\n",
    "    zip_ref.extractall()\n",
    "\n",
    "# Load the dataset\n",
    "df = pd.read_csv('Reviews.csv', usecols=['Text'])\n",
    "df.rename(columns={'Text': 'review'}, inplace=True)"
   ]
  },
  {
   "cell_type": "markdown",
   "id": "df3bd03e-d309-4716-9953-b8b00b918929",
   "metadata": {},
   "source": [
    "# 2. Analysis Raw Data"
   ]
  },
  {
   "cell_type": "code",
   "execution_count": 10,
   "id": "d8726926-8ae2-4e17-b9ce-e5669359f07a",
   "metadata": {},
   "outputs": [],
   "source": [
    "import numpy as np\n",
    "# Import stopwords\n",
    "import nltk\n",
    "from nltk.corpus import stopwords"
   ]
  },
  {
   "cell_type": "code",
   "execution_count": 11,
   "id": "7c93bfb1-1b3f-402b-a982-09d84cf49e98",
   "metadata": {},
   "outputs": [],
   "source": [
    "# 1. Word Count\n",
    "df['word_count'] = df['review'].apply(lambda x: len(str(x).split(\" \")))\n",
    "# 2. Character Count\n",
    "df['char_count'] = df['review'].str.len()\n",
    "# 3. Average word length\n",
    "def avg_word(review):\n",
    "  words = review.split()\n",
    "  return (sum(len(word) for word in words) / len(words))\n",
    "\n",
    "df['avg_word'] = df['review'].apply(lambda x: avg_word(x))\n",
    "# 4. Stop Word Count\n",
    "stop_words = stopwords.words('english')\n",
    "df['stopword_count'] = df['review'].apply(lambda x: len([x for x in x.split() if x in stop_words]))"
   ]
  },
  {
   "cell_type": "code",
   "execution_count": 12,
   "id": "5f616bd0-38a2-45f7-8556-3b966cb4afdc",
   "metadata": {},
   "outputs": [
    {
     "data": {
      "text/html": [
       "<div>\n",
       "<style scoped>\n",
       "    .dataframe tbody tr th:only-of-type {\n",
       "        vertical-align: middle;\n",
       "    }\n",
       "\n",
       "    .dataframe tbody tr th {\n",
       "        vertical-align: top;\n",
       "    }\n",
       "\n",
       "    .dataframe thead th {\n",
       "        text-align: right;\n",
       "    }\n",
       "</style>\n",
       "<table border=\"1\" class=\"dataframe\">\n",
       "  <thead>\n",
       "    <tr style=\"text-align: right;\">\n",
       "      <th></th>\n",
       "      <th>word_count</th>\n",
       "      <th>char_count</th>\n",
       "      <th>avg_word</th>\n",
       "      <th>stopword_count</th>\n",
       "    </tr>\n",
       "  </thead>\n",
       "  <tbody>\n",
       "    <tr>\n",
       "      <th>count</th>\n",
       "      <td>568454.000000</td>\n",
       "      <td>568454.000000</td>\n",
       "      <td>568454.000000</td>\n",
       "      <td>568454.000000</td>\n",
       "    </tr>\n",
       "    <tr>\n",
       "      <th>mean</th>\n",
       "      <td>82.005522</td>\n",
       "      <td>436.222083</td>\n",
       "      <td>4.400934</td>\n",
       "      <td>32.074824</td>\n",
       "    </tr>\n",
       "    <tr>\n",
       "      <th>std</th>\n",
       "      <td>80.807102</td>\n",
       "      <td>445.339741</td>\n",
       "      <td>0.441144</td>\n",
       "      <td>32.115626</td>\n",
       "    </tr>\n",
       "    <tr>\n",
       "      <th>min</th>\n",
       "      <td>3.000000</td>\n",
       "      <td>12.000000</td>\n",
       "      <td>1.000000</td>\n",
       "      <td>0.000000</td>\n",
       "    </tr>\n",
       "    <tr>\n",
       "      <th>25%</th>\n",
       "      <td>34.000000</td>\n",
       "      <td>179.000000</td>\n",
       "      <td>4.120000</td>\n",
       "      <td>13.000000</td>\n",
       "    </tr>\n",
       "    <tr>\n",
       "      <th>50%</th>\n",
       "      <td>58.000000</td>\n",
       "      <td>302.000000</td>\n",
       "      <td>4.360000</td>\n",
       "      <td>23.000000</td>\n",
       "    </tr>\n",
       "    <tr>\n",
       "      <th>75%</th>\n",
       "      <td>100.000000</td>\n",
       "      <td>527.000000</td>\n",
       "      <td>4.625000</td>\n",
       "      <td>40.000000</td>\n",
       "    </tr>\n",
       "    <tr>\n",
       "      <th>max</th>\n",
       "      <td>3526.000000</td>\n",
       "      <td>21409.000000</td>\n",
       "      <td>35.296296</td>\n",
       "      <td>1295.000000</td>\n",
       "    </tr>\n",
       "  </tbody>\n",
       "</table>\n",
       "</div>"
      ],
      "text/plain": [
       "          word_count     char_count       avg_word  stopword_count\n",
       "count  568454.000000  568454.000000  568454.000000   568454.000000\n",
       "mean       82.005522     436.222083       4.400934       32.074824\n",
       "std        80.807102     445.339741       0.441144       32.115626\n",
       "min         3.000000      12.000000       1.000000        0.000000\n",
       "25%        34.000000     179.000000       4.120000       13.000000\n",
       "50%        58.000000     302.000000       4.360000       23.000000\n",
       "75%       100.000000     527.000000       4.625000       40.000000\n",
       "max      3526.000000   21409.000000      35.296296     1295.000000"
      ]
     },
     "execution_count": 12,
     "metadata": {},
     "output_type": "execute_result"
    }
   ],
   "source": [
    "df.describe()"
   ]
  },
  {
   "cell_type": "code",
   "execution_count": 13,
   "id": "d319628f-c9a1-46f3-9f4c-8fc1aa3c6fa1",
   "metadata": {},
   "outputs": [
    {
     "data": {
      "text/html": [
       "<div>\n",
       "<style scoped>\n",
       "    .dataframe tbody tr th:only-of-type {\n",
       "        vertical-align: middle;\n",
       "    }\n",
       "\n",
       "    .dataframe tbody tr th {\n",
       "        vertical-align: top;\n",
       "    }\n",
       "\n",
       "    .dataframe thead th {\n",
       "        text-align: right;\n",
       "    }\n",
       "</style>\n",
       "<table border=\"1\" class=\"dataframe\">\n",
       "  <thead>\n",
       "    <tr style=\"text-align: right;\">\n",
       "      <th></th>\n",
       "      <th>review</th>\n",
       "      <th>word_count</th>\n",
       "      <th>char_count</th>\n",
       "      <th>avg_word</th>\n",
       "      <th>stopword_count</th>\n",
       "    </tr>\n",
       "  </thead>\n",
       "  <tbody>\n",
       "    <tr>\n",
       "      <th>0</th>\n",
       "      <td>I have bought several of the Vitality canned d...</td>\n",
       "      <td>49</td>\n",
       "      <td>263</td>\n",
       "      <td>4.479167</td>\n",
       "      <td>21</td>\n",
       "    </tr>\n",
       "    <tr>\n",
       "      <th>1</th>\n",
       "      <td>Product arrived labeled as Jumbo Salted Peanut...</td>\n",
       "      <td>31</td>\n",
       "      <td>190</td>\n",
       "      <td>5.161290</td>\n",
       "      <td>12</td>\n",
       "    </tr>\n",
       "    <tr>\n",
       "      <th>2</th>\n",
       "      <td>This is a confection that has been around a fe...</td>\n",
       "      <td>99</td>\n",
       "      <td>509</td>\n",
       "      <td>4.372340</td>\n",
       "      <td>42</td>\n",
       "    </tr>\n",
       "    <tr>\n",
       "      <th>3</th>\n",
       "      <td>If you are looking for the secret ingredient i...</td>\n",
       "      <td>43</td>\n",
       "      <td>219</td>\n",
       "      <td>4.317073</td>\n",
       "      <td>15</td>\n",
       "    </tr>\n",
       "    <tr>\n",
       "      <th>4</th>\n",
       "      <td>Great taffy at a great price.  There was a wid...</td>\n",
       "      <td>30</td>\n",
       "      <td>140</td>\n",
       "      <td>4.111111</td>\n",
       "      <td>12</td>\n",
       "    </tr>\n",
       "  </tbody>\n",
       "</table>\n",
       "</div>"
      ],
      "text/plain": [
       "                                              review  word_count  char_count  \\\n",
       "0  I have bought several of the Vitality canned d...          49         263   \n",
       "1  Product arrived labeled as Jumbo Salted Peanut...          31         190   \n",
       "2  This is a confection that has been around a fe...          99         509   \n",
       "3  If you are looking for the secret ingredient i...          43         219   \n",
       "4  Great taffy at a great price.  There was a wid...          30         140   \n",
       "\n",
       "   avg_word  stopword_count  \n",
       "0  4.479167              21  \n",
       "1  5.161290              12  \n",
       "2  4.372340              42  \n",
       "3  4.317073              15  \n",
       "4  4.111111              12  "
      ]
     },
     "execution_count": 13,
     "metadata": {},
     "output_type": "execute_result"
    }
   ],
   "source": [
    "df.head()"
   ]
  },
  {
   "cell_type": "markdown",
   "id": "05918f1b-fcf2-45a3-bb0a-aa887b706fab",
   "metadata": {},
   "source": [
    "# 3. Clean Dataset"
   ]
  },
  {
   "cell_type": "code",
   "execution_count": 15,
   "id": "abc23d31-b165-45b2-840c-79f18bb9b2e6",
   "metadata": {},
   "outputs": [],
   "source": [
    "# 1. Lower case all words\n",
    "df['review_lower'] = df['review'].apply(lambda x: \" \".join(x.lower() for x in x.split()))\n",
    "# 2. Remove Punctuation\n",
    "df['review_nopunc'] = df['review_lower'].str.replace('[^\\w\\s]', '')\n",
    "# 3. Remove Stopwords\n",
    "stop_words = stopwords.words('english')\n",
    "df['review_nopunc_nostop'] = df['review_nopunc'].apply(lambda x: \" \".join(x for x in x.split() if x not in stop_words))\n",
    "# 4. Return frequency of values\n",
    "freq= pd.Series(\" \".join(df['review_nopunc_nostop']).split()).value_counts()[:30]\n",
    "other_stopwords = ['get', 'us', 'see', 'use', 'said', 'asked', 'day', 'go' \\\n",
    "  'even', 'ive', 'right', 'left', 'always', 'would', 'told', \\\n",
    "  'get', 'us', 'would', 'get', 'one', 'ive', 'go', 'even', \\\n",
    "  'also', 'ever', 'x', 'take', 'let' ]\n",
    "df['review_nopunc_nostop_nocommon'] = df['review_nopunc_nostop'].apply(lambda x: \"\".join(\" \".join(x for x in x.split() if x not in other_stopwords)))"
   ]
  },
  {
   "cell_type": "code",
   "execution_count": 16,
   "id": "34353371-183d-4c64-973a-ccce1f8ee60b",
   "metadata": {},
   "outputs": [
    {
     "data": {
      "text/html": [
       "<div>\n",
       "<style scoped>\n",
       "    .dataframe tbody tr th:only-of-type {\n",
       "        vertical-align: middle;\n",
       "    }\n",
       "\n",
       "    .dataframe tbody tr th {\n",
       "        vertical-align: top;\n",
       "    }\n",
       "\n",
       "    .dataframe thead th {\n",
       "        text-align: right;\n",
       "    }\n",
       "</style>\n",
       "<table border=\"1\" class=\"dataframe\">\n",
       "  <thead>\n",
       "    <tr style=\"text-align: right;\">\n",
       "      <th></th>\n",
       "      <th>review</th>\n",
       "      <th>word_count</th>\n",
       "      <th>char_count</th>\n",
       "      <th>avg_word</th>\n",
       "      <th>stopword_count</th>\n",
       "      <th>review_lower</th>\n",
       "      <th>review_nopunc</th>\n",
       "      <th>review_nopunc_nostop</th>\n",
       "      <th>review_nopunc_nostop_nocommon</th>\n",
       "    </tr>\n",
       "  </thead>\n",
       "  <tbody>\n",
       "    <tr>\n",
       "      <th>0</th>\n",
       "      <td>I have bought several of the Vitality canned d...</td>\n",
       "      <td>49</td>\n",
       "      <td>263</td>\n",
       "      <td>4.479167</td>\n",
       "      <td>21</td>\n",
       "      <td>i have bought several of the vitality canned d...</td>\n",
       "      <td>i have bought several of the vitality canned d...</td>\n",
       "      <td>bought several vitality canned dog food produc...</td>\n",
       "      <td>bought several vitality canned dog food produc...</td>\n",
       "    </tr>\n",
       "    <tr>\n",
       "      <th>1</th>\n",
       "      <td>Product arrived labeled as Jumbo Salted Peanut...</td>\n",
       "      <td>31</td>\n",
       "      <td>190</td>\n",
       "      <td>5.161290</td>\n",
       "      <td>12</td>\n",
       "      <td>product arrived labeled as jumbo salted peanut...</td>\n",
       "      <td>product arrived labeled as jumbo salted peanut...</td>\n",
       "      <td>product arrived labeled jumbo salted peanuts.....</td>\n",
       "      <td>product arrived labeled jumbo salted peanuts.....</td>\n",
       "    </tr>\n",
       "    <tr>\n",
       "      <th>2</th>\n",
       "      <td>This is a confection that has been around a fe...</td>\n",
       "      <td>99</td>\n",
       "      <td>509</td>\n",
       "      <td>4.372340</td>\n",
       "      <td>42</td>\n",
       "      <td>this is a confection that has been around a fe...</td>\n",
       "      <td>this is a confection that has been around a fe...</td>\n",
       "      <td>confection around centuries. light, pillowy ci...</td>\n",
       "      <td>confection around centuries. light, pillowy ci...</td>\n",
       "    </tr>\n",
       "    <tr>\n",
       "      <th>3</th>\n",
       "      <td>If you are looking for the secret ingredient i...</td>\n",
       "      <td>43</td>\n",
       "      <td>219</td>\n",
       "      <td>4.317073</td>\n",
       "      <td>15</td>\n",
       "      <td>if you are looking for the secret ingredient i...</td>\n",
       "      <td>if you are looking for the secret ingredient i...</td>\n",
       "      <td>looking secret ingredient robitussin believe f...</td>\n",
       "      <td>looking secret ingredient robitussin believe f...</td>\n",
       "    </tr>\n",
       "    <tr>\n",
       "      <th>4</th>\n",
       "      <td>Great taffy at a great price.  There was a wid...</td>\n",
       "      <td>30</td>\n",
       "      <td>140</td>\n",
       "      <td>4.111111</td>\n",
       "      <td>12</td>\n",
       "      <td>great taffy at a great price. there was a wide...</td>\n",
       "      <td>great taffy at a great price. there was a wide...</td>\n",
       "      <td>great taffy great price. wide assortment yummy...</td>\n",
       "      <td>great taffy great price. wide assortment yummy...</td>\n",
       "    </tr>\n",
       "  </tbody>\n",
       "</table>\n",
       "</div>"
      ],
      "text/plain": [
       "                                              review  word_count  char_count  \\\n",
       "0  I have bought several of the Vitality canned d...          49         263   \n",
       "1  Product arrived labeled as Jumbo Salted Peanut...          31         190   \n",
       "2  This is a confection that has been around a fe...          99         509   \n",
       "3  If you are looking for the secret ingredient i...          43         219   \n",
       "4  Great taffy at a great price.  There was a wid...          30         140   \n",
       "\n",
       "   avg_word  stopword_count  \\\n",
       "0  4.479167              21   \n",
       "1  5.161290              12   \n",
       "2  4.372340              42   \n",
       "3  4.317073              15   \n",
       "4  4.111111              12   \n",
       "\n",
       "                                        review_lower  \\\n",
       "0  i have bought several of the vitality canned d...   \n",
       "1  product arrived labeled as jumbo salted peanut...   \n",
       "2  this is a confection that has been around a fe...   \n",
       "3  if you are looking for the secret ingredient i...   \n",
       "4  great taffy at a great price. there was a wide...   \n",
       "\n",
       "                                       review_nopunc  \\\n",
       "0  i have bought several of the vitality canned d...   \n",
       "1  product arrived labeled as jumbo salted peanut...   \n",
       "2  this is a confection that has been around a fe...   \n",
       "3  if you are looking for the secret ingredient i...   \n",
       "4  great taffy at a great price. there was a wide...   \n",
       "\n",
       "                                review_nopunc_nostop  \\\n",
       "0  bought several vitality canned dog food produc...   \n",
       "1  product arrived labeled jumbo salted peanuts.....   \n",
       "2  confection around centuries. light, pillowy ci...   \n",
       "3  looking secret ingredient robitussin believe f...   \n",
       "4  great taffy great price. wide assortment yummy...   \n",
       "\n",
       "                       review_nopunc_nostop_nocommon  \n",
       "0  bought several vitality canned dog food produc...  \n",
       "1  product arrived labeled jumbo salted peanuts.....  \n",
       "2  confection around centuries. light, pillowy ci...  \n",
       "3  looking secret ingredient robitussin believe f...  \n",
       "4  great taffy great price. wide assortment yummy...  "
      ]
     },
     "execution_count": 16,
     "metadata": {},
     "output_type": "execute_result"
    }
   ],
   "source": [
    "df.head()"
   ]
  },
  {
   "cell_type": "code",
   "execution_count": 24,
   "id": "5b708b56-d78b-47ba-9503-969a49981b6d",
   "metadata": {},
   "outputs": [
    {
     "name": "stdout",
     "output_type": "stream",
     "text": [
      "Processed data saved to CSV.\n"
     ]
    }
   ],
   "source": [
    "# Save the processed DataFrame to a CSV file\n",
    "processed_csv_filename = 'processed_reviews.csv'\n",
    "df.to_csv(processed_csv_filename, index=False)\n",
    "print(\"Processed data saved to CSV.\")"
   ]
  },
  {
   "cell_type": "markdown",
   "id": "0b41e95e-4094-4591-8938-22ebe5d0a2c2",
   "metadata": {},
   "source": [
    "# 4. Lemmatize the review"
   ]
  },
  {
   "cell_type": "code",
   "execution_count": 25,
   "id": "bb4c3c4e-71af-4f01-a0b2-97ff61c7764d",
   "metadata": {},
   "outputs": [],
   "source": [
    "processed_csv_filename = 'processed_reviews.csv'\n",
    "df = pd.read_csv(processed_csv_filename)"
   ]
  },
  {
   "cell_type": "code",
   "execution_count": 26,
   "id": "1d63e6e3-5ef7-4f0f-b01b-369f5bb3f22e",
   "metadata": {},
   "outputs": [],
   "source": [
    "# Import textblob\n",
    "from textblob import Word"
   ]
  },
  {
   "cell_type": "code",
   "execution_count": 27,
   "id": "8d934ed0-bc6d-48a9-8236-f258402f06d9",
   "metadata": {},
   "outputs": [],
   "source": [
    "# Lemmatize final review format\n",
    "df['cleaned_review'] = df['review_nopunc_nostop_nocommon'].apply(lambda x: \" \".join([Word(word).lemmatize() for word in x.split()]))"
   ]
  },
  {
   "cell_type": "code",
   "execution_count": null,
   "id": "fd962ce9-5886-4876-a499-e3d551e0e56a",
   "metadata": {},
   "outputs": [],
   "source": [
    "df.head()"
   ]
  },
  {
   "cell_type": "markdown",
   "id": "70103609-57d4-4570-9431-11acb02ff908",
   "metadata": {},
   "source": [
    "# 5. Sentiment Analysis"
   ]
  },
  {
   "cell_type": "code",
   "execution_count": 28,
   "id": "3aae00d0-0922-4eba-bab1-0e94f5fc6cda",
   "metadata": {},
   "outputs": [],
   "source": [
    "from textblob import TextBlob"
   ]
  },
  {
   "cell_type": "code",
   "execution_count": 31,
   "id": "b609d836-b156-4373-a320-55f8aaf139ca",
   "metadata": {},
   "outputs": [],
   "source": [
    "# 1. Calculate polarity\n",
    "df['polarity'] = df['cleaned_review'].apply(lambda x: TextBlob(x).sentiment[0])\n",
    "# 2. Calculate subjectivity\n",
    "df['subjectivity'] = df['cleaned_review'].apply(lambda x: TextBlob(x).sentiment[1])"
   ]
  },
  {
   "cell_type": "code",
   "execution_count": 32,
   "id": "94005d04-a160-4256-ab59-85df028d8650",
   "metadata": {},
   "outputs": [
    {
     "data": {
      "text/html": [
       "<div>\n",
       "<style scoped>\n",
       "    .dataframe tbody tr th:only-of-type {\n",
       "        vertical-align: middle;\n",
       "    }\n",
       "\n",
       "    .dataframe tbody tr th {\n",
       "        vertical-align: top;\n",
       "    }\n",
       "\n",
       "    .dataframe thead th {\n",
       "        text-align: right;\n",
       "    }\n",
       "</style>\n",
       "<table border=\"1\" class=\"dataframe\">\n",
       "  <thead>\n",
       "    <tr style=\"text-align: right;\">\n",
       "      <th></th>\n",
       "      <th>review</th>\n",
       "      <th>polarity</th>\n",
       "      <th>subjectivity</th>\n",
       "    </tr>\n",
       "  </thead>\n",
       "  <tbody>\n",
       "    <tr>\n",
       "      <th>0</th>\n",
       "      <td>I have bought several of the Vitality canned d...</td>\n",
       "      <td>0.440000</td>\n",
       "      <td>0.420000</td>\n",
       "    </tr>\n",
       "    <tr>\n",
       "      <th>1</th>\n",
       "      <td>Product arrived labeled as Jumbo Salted Peanut...</td>\n",
       "      <td>0.216667</td>\n",
       "      <td>0.762963</td>\n",
       "    </tr>\n",
       "    <tr>\n",
       "      <th>2</th>\n",
       "      <td>This is a confection that has been around a fe...</td>\n",
       "      <td>0.187000</td>\n",
       "      <td>0.548000</td>\n",
       "    </tr>\n",
       "    <tr>\n",
       "      <th>3</th>\n",
       "      <td>If you are looking for the secret ingredient i...</td>\n",
       "      <td>0.150000</td>\n",
       "      <td>0.650000</td>\n",
       "    </tr>\n",
       "    <tr>\n",
       "      <th>4</th>\n",
       "      <td>Great taffy at a great price.  There was a wid...</td>\n",
       "      <td>0.458333</td>\n",
       "      <td>0.600000</td>\n",
       "    </tr>\n",
       "  </tbody>\n",
       "</table>\n",
       "</div>"
      ],
      "text/plain": [
       "                                              review  polarity  subjectivity\n",
       "0  I have bought several of the Vitality canned d...  0.440000      0.420000\n",
       "1  Product arrived labeled as Jumbo Salted Peanut...  0.216667      0.762963\n",
       "2  This is a confection that has been around a fe...  0.187000      0.548000\n",
       "3  If you are looking for the secret ingredient i...  0.150000      0.650000\n",
       "4  Great taffy at a great price.  There was a wid...  0.458333      0.600000"
      ]
     },
     "execution_count": 32,
     "metadata": {},
     "output_type": "execute_result"
    }
   ],
   "source": [
    "df_metric = df[['review', 'polarity','subjectivity']]\n",
    "df_metric.head()"
   ]
  },
  {
   "cell_type": "code",
   "execution_count": 33,
   "id": "efdd05cb-8064-428d-ae6a-e90f0b281e6c",
   "metadata": {},
   "outputs": [
    {
     "name": "stdout",
     "output_type": "stream",
     "text": [
      "Review Metric data saved to CSV.\n"
     ]
    }
   ],
   "source": [
    "review_metric_csv_filename = 'reviews_metric.csv'\n",
    "df.to_csv(review_metric_csv_filename, index=False)\n",
    "print(\"Review Metric data saved to CSV.\")"
   ]
  },
  {
   "cell_type": "markdown",
   "id": "64ccc279-9ab5-4c30-a638-0cc92ba799f4",
   "metadata": {},
   "source": [
    "# 6. Visualising Correlation"
   ]
  },
  {
   "cell_type": "code",
   "execution_count": null,
   "id": "52747a9f-4f6e-4a8c-b86b-09111182a523",
   "metadata": {},
   "outputs": [],
   "source": []
  }
 ],
 "metadata": {
  "kernelspec": {
   "display_name": "Python 3 (ipykernel)",
   "language": "python",
   "name": "python3"
  },
  "language_info": {
   "codemirror_mode": {
    "name": "ipython",
    "version": 3
   },
   "file_extension": ".py",
   "mimetype": "text/x-python",
   "name": "python",
   "nbconvert_exporter": "python",
   "pygments_lexer": "ipython3",
   "version": "3.9.6"
  }
 },
 "nbformat": 4,
 "nbformat_minor": 5
}
